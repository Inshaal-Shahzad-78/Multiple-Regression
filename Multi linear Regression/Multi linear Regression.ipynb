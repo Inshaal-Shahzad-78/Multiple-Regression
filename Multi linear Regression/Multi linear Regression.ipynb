{
 "cells": [
  {
   "cell_type": "code",
   "execution_count": 1,
   "id": "8adb3028",
   "metadata": {},
   "outputs": [],
   "source": [
    "import numpy as np \n",
    "import pandas as pd\n",
    "import matplotlib.pyplot as plt\n",
    "%matplotlib inline"
   ]
  },
  {
   "cell_type": "code",
   "execution_count": 2,
   "id": "aad9e46e",
   "metadata": {},
   "outputs": [],
   "source": [
    "df = pd.read_csv(\"heart.data.csv\")"
   ]
  },
  {
   "cell_type": "code",
   "execution_count": 3,
   "id": "8c48527c",
   "metadata": {},
   "outputs": [
    {
     "data": {
      "text/html": [
       "<div>\n",
       "<style scoped>\n",
       "    .dataframe tbody tr th:only-of-type {\n",
       "        vertical-align: middle;\n",
       "    }\n",
       "\n",
       "    .dataframe tbody tr th {\n",
       "        vertical-align: top;\n",
       "    }\n",
       "\n",
       "    .dataframe thead th {\n",
       "        text-align: right;\n",
       "    }\n",
       "</style>\n",
       "<table border=\"1\" class=\"dataframe\">\n",
       "  <thead>\n",
       "    <tr style=\"text-align: right;\">\n",
       "      <th></th>\n",
       "      <th>Unnamed: 0</th>\n",
       "      <th>biking</th>\n",
       "      <th>smoking</th>\n",
       "      <th>heart.disease</th>\n",
       "    </tr>\n",
       "  </thead>\n",
       "  <tbody>\n",
       "    <tr>\n",
       "      <th>0</th>\n",
       "      <td>1</td>\n",
       "      <td>30.801246</td>\n",
       "      <td>10.896608</td>\n",
       "      <td>11.769423</td>\n",
       "    </tr>\n",
       "    <tr>\n",
       "      <th>1</th>\n",
       "      <td>2</td>\n",
       "      <td>65.129215</td>\n",
       "      <td>2.219563</td>\n",
       "      <td>2.854081</td>\n",
       "    </tr>\n",
       "    <tr>\n",
       "      <th>2</th>\n",
       "      <td>3</td>\n",
       "      <td>1.959665</td>\n",
       "      <td>17.588331</td>\n",
       "      <td>17.177803</td>\n",
       "    </tr>\n",
       "    <tr>\n",
       "      <th>3</th>\n",
       "      <td>4</td>\n",
       "      <td>44.800196</td>\n",
       "      <td>2.802559</td>\n",
       "      <td>6.816647</td>\n",
       "    </tr>\n",
       "    <tr>\n",
       "      <th>4</th>\n",
       "      <td>5</td>\n",
       "      <td>69.428454</td>\n",
       "      <td>15.974505</td>\n",
       "      <td>4.062224</td>\n",
       "    </tr>\n",
       "  </tbody>\n",
       "</table>\n",
       "</div>"
      ],
      "text/plain": [
       "   Unnamed: 0     biking    smoking  heart.disease\n",
       "0           1  30.801246  10.896608      11.769423\n",
       "1           2  65.129215   2.219563       2.854081\n",
       "2           3   1.959665  17.588331      17.177803\n",
       "3           4  44.800196   2.802559       6.816647\n",
       "4           5  69.428454  15.974505       4.062224"
      ]
     },
     "execution_count": 3,
     "metadata": {},
     "output_type": "execute_result"
    }
   ],
   "source": [
    "df.head()"
   ]
  },
  {
   "cell_type": "code",
   "execution_count": 4,
   "id": "d4c84dc2",
   "metadata": {},
   "outputs": [
    {
     "data": {
      "text/html": [
       "<div>\n",
       "<style scoped>\n",
       "    .dataframe tbody tr th:only-of-type {\n",
       "        vertical-align: middle;\n",
       "    }\n",
       "\n",
       "    .dataframe tbody tr th {\n",
       "        vertical-align: top;\n",
       "    }\n",
       "\n",
       "    .dataframe thead th {\n",
       "        text-align: right;\n",
       "    }\n",
       "</style>\n",
       "<table border=\"1\" class=\"dataframe\">\n",
       "  <thead>\n",
       "    <tr style=\"text-align: right;\">\n",
       "      <th></th>\n",
       "      <th>Unnamed: 0</th>\n",
       "      <th>biking</th>\n",
       "      <th>smoking</th>\n",
       "      <th>heart.disease</th>\n",
       "    </tr>\n",
       "  </thead>\n",
       "  <tbody>\n",
       "    <tr>\n",
       "      <th>493</th>\n",
       "      <td>494</td>\n",
       "      <td>47.660440</td>\n",
       "      <td>27.562464</td>\n",
       "      <td>11.294392</td>\n",
       "    </tr>\n",
       "    <tr>\n",
       "      <th>494</th>\n",
       "      <td>495</td>\n",
       "      <td>45.097203</td>\n",
       "      <td>21.385620</td>\n",
       "      <td>9.616762</td>\n",
       "    </tr>\n",
       "    <tr>\n",
       "      <th>495</th>\n",
       "      <td>496</td>\n",
       "      <td>8.279743</td>\n",
       "      <td>6.423720</td>\n",
       "      <td>13.495168</td>\n",
       "    </tr>\n",
       "    <tr>\n",
       "      <th>496</th>\n",
       "      <td>497</td>\n",
       "      <td>42.345863</td>\n",
       "      <td>20.741328</td>\n",
       "      <td>10.115865</td>\n",
       "    </tr>\n",
       "    <tr>\n",
       "      <th>497</th>\n",
       "      <td>498</td>\n",
       "      <td>30.774254</td>\n",
       "      <td>23.610175</td>\n",
       "      <td>11.843556</td>\n",
       "    </tr>\n",
       "  </tbody>\n",
       "</table>\n",
       "</div>"
      ],
      "text/plain": [
       "     Unnamed: 0     biking    smoking  heart.disease\n",
       "493         494  47.660440  27.562464      11.294392\n",
       "494         495  45.097203  21.385620       9.616762\n",
       "495         496   8.279743   6.423720      13.495168\n",
       "496         497  42.345863  20.741328      10.115865\n",
       "497         498  30.774254  23.610175      11.843556"
      ]
     },
     "execution_count": 4,
     "metadata": {},
     "output_type": "execute_result"
    }
   ],
   "source": [
    "df.tail()"
   ]
  },
  {
   "cell_type": "code",
   "execution_count": 5,
   "id": "96f46cd6",
   "metadata": {},
   "outputs": [],
   "source": [
    "df.drop(labels='Unnamed: 0',axis=1,inplace=True)"
   ]
  },
  {
   "cell_type": "code",
   "execution_count": 6,
   "id": "93f3741e",
   "metadata": {},
   "outputs": [
    {
     "name": "stdout",
     "output_type": "stream",
     "text": [
      "<class 'pandas.core.frame.DataFrame'>\n",
      "RangeIndex: 498 entries, 0 to 497\n",
      "Data columns (total 3 columns):\n",
      " #   Column         Non-Null Count  Dtype  \n",
      "---  ------         --------------  -----  \n",
      " 0   biking         498 non-null    float64\n",
      " 1   smoking        498 non-null    float64\n",
      " 2   heart.disease  498 non-null    float64\n",
      "dtypes: float64(3)\n",
      "memory usage: 11.8 KB\n"
     ]
    }
   ],
   "source": [
    "df.info()"
   ]
  },
  {
   "cell_type": "code",
   "execution_count": 7,
   "id": "9c1501eb",
   "metadata": {},
   "outputs": [
    {
     "data": {
      "text/html": [
       "<div>\n",
       "<style scoped>\n",
       "    .dataframe tbody tr th:only-of-type {\n",
       "        vertical-align: middle;\n",
       "    }\n",
       "\n",
       "    .dataframe tbody tr th {\n",
       "        vertical-align: top;\n",
       "    }\n",
       "\n",
       "    .dataframe thead th {\n",
       "        text-align: right;\n",
       "    }\n",
       "</style>\n",
       "<table border=\"1\" class=\"dataframe\">\n",
       "  <thead>\n",
       "    <tr style=\"text-align: right;\">\n",
       "      <th></th>\n",
       "      <th>biking</th>\n",
       "      <th>smoking</th>\n",
       "      <th>heart.disease</th>\n",
       "    </tr>\n",
       "  </thead>\n",
       "  <tbody>\n",
       "    <tr>\n",
       "      <th>count</th>\n",
       "      <td>498.000000</td>\n",
       "      <td>498.000000</td>\n",
       "      <td>498.000000</td>\n",
       "    </tr>\n",
       "    <tr>\n",
       "      <th>mean</th>\n",
       "      <td>37.788411</td>\n",
       "      <td>15.435034</td>\n",
       "      <td>10.174538</td>\n",
       "    </tr>\n",
       "    <tr>\n",
       "      <th>std</th>\n",
       "      <td>21.481519</td>\n",
       "      <td>8.289959</td>\n",
       "      <td>4.571874</td>\n",
       "    </tr>\n",
       "    <tr>\n",
       "      <th>min</th>\n",
       "      <td>1.119154</td>\n",
       "      <td>0.525850</td>\n",
       "      <td>0.551898</td>\n",
       "    </tr>\n",
       "    <tr>\n",
       "      <th>25%</th>\n",
       "      <td>20.204598</td>\n",
       "      <td>8.279776</td>\n",
       "      <td>6.513683</td>\n",
       "    </tr>\n",
       "    <tr>\n",
       "      <th>50%</th>\n",
       "      <td>35.824459</td>\n",
       "      <td>15.814614</td>\n",
       "      <td>10.385255</td>\n",
       "    </tr>\n",
       "    <tr>\n",
       "      <th>75%</th>\n",
       "      <td>57.852786</td>\n",
       "      <td>22.568925</td>\n",
       "      <td>13.724024</td>\n",
       "    </tr>\n",
       "    <tr>\n",
       "      <th>max</th>\n",
       "      <td>74.907111</td>\n",
       "      <td>29.946743</td>\n",
       "      <td>20.453496</td>\n",
       "    </tr>\n",
       "  </tbody>\n",
       "</table>\n",
       "</div>"
      ],
      "text/plain": [
       "           biking     smoking  heart.disease\n",
       "count  498.000000  498.000000     498.000000\n",
       "mean    37.788411   15.435034      10.174538\n",
       "std     21.481519    8.289959       4.571874\n",
       "min      1.119154    0.525850       0.551898\n",
       "25%     20.204598    8.279776       6.513683\n",
       "50%     35.824459   15.814614      10.385255\n",
       "75%     57.852786   22.568925      13.724024\n",
       "max     74.907111   29.946743      20.453496"
      ]
     },
     "execution_count": 7,
     "metadata": {},
     "output_type": "execute_result"
    }
   ],
   "source": [
    "df.describe()"
   ]
  },
  {
   "cell_type": "code",
   "execution_count": 8,
   "id": "b9b0ab5f",
   "metadata": {},
   "outputs": [
    {
     "data": {
      "text/html": [
       "<div>\n",
       "<style scoped>\n",
       "    .dataframe tbody tr th:only-of-type {\n",
       "        vertical-align: middle;\n",
       "    }\n",
       "\n",
       "    .dataframe tbody tr th {\n",
       "        vertical-align: top;\n",
       "    }\n",
       "\n",
       "    .dataframe thead th {\n",
       "        text-align: right;\n",
       "    }\n",
       "</style>\n",
       "<table border=\"1\" class=\"dataframe\">\n",
       "  <thead>\n",
       "    <tr style=\"text-align: right;\">\n",
       "      <th></th>\n",
       "      <th>biking</th>\n",
       "      <th>smoking</th>\n",
       "      <th>heart.disease</th>\n",
       "    </tr>\n",
       "  </thead>\n",
       "  <tbody>\n",
       "    <tr>\n",
       "      <th>biking</th>\n",
       "      <td>1.000000</td>\n",
       "      <td>0.015136</td>\n",
       "      <td>-0.935455</td>\n",
       "    </tr>\n",
       "    <tr>\n",
       "      <th>smoking</th>\n",
       "      <td>0.015136</td>\n",
       "      <td>1.000000</td>\n",
       "      <td>0.309131</td>\n",
       "    </tr>\n",
       "    <tr>\n",
       "      <th>heart.disease</th>\n",
       "      <td>-0.935455</td>\n",
       "      <td>0.309131</td>\n",
       "      <td>1.000000</td>\n",
       "    </tr>\n",
       "  </tbody>\n",
       "</table>\n",
       "</div>"
      ],
      "text/plain": [
       "                 biking   smoking  heart.disease\n",
       "biking         1.000000  0.015136      -0.935455\n",
       "smoking        0.015136  1.000000       0.309131\n",
       "heart.disease -0.935455  0.309131       1.000000"
      ]
     },
     "execution_count": 8,
     "metadata": {},
     "output_type": "execute_result"
    }
   ],
   "source": [
    "df.corr()"
   ]
  },
  {
   "cell_type": "code",
   "execution_count": 9,
   "id": "3f9a6fd7",
   "metadata": {},
   "outputs": [],
   "source": [
    "mean_of_heart_disease = df['heart.disease'].mean()\n",
    "mean_of_biking = df['biking'].mean()\n",
    "mean_of_smoking = df['smoking'].mean()"
   ]
  },
  {
   "cell_type": "code",
   "execution_count": 10,
   "id": "b2299e1b",
   "metadata": {},
   "outputs": [],
   "source": [
    "# for calculating multilinear regression with two independent variables \n",
    "# y = B0 + B1*X1 + B2*X2 + E\n",
    "# where,\n",
    "# y = predicted value\n",
    "# B0 = slope\n",
    "# B1 = regression coefficient for first variable\n",
    "# B2 = regression coefficient for second variable\n",
    "# X1 = the value from the data of first variable\n",
    "# X2 = the value from the data of second variable\n",
    "# E = model error (how much variation there is in our estimate of y)"
   ]
  },
  {
   "cell_type": "code",
   "execution_count": 11,
   "id": "46c01582",
   "metadata": {},
   "outputs": [],
   "source": [
    "# Calculating regression coefficient for biking and smoking i.e B1 and B2"
   ]
  },
  {
   "cell_type": "code",
   "execution_count": 12,
   "id": "beb4063e",
   "metadata": {},
   "outputs": [],
   "source": [
    "# B1 = (sum of (X2**2))*(sum of (X1 * y))-(sum of (X1*X2))*(sum of (X2*y)) / (sum of (X1**2))*(sum of (X2**2))- (sum of X1*X2)**2\n",
    "# B2 = (sum of (X1**2))*(sum of (X2 * y))-(sum of (X1*X2))*(sum of (X1*y)) / (sum of (X1**2))*(sum of (X2**2))- (sum of X1*X2)**2"
   ]
  },
  {
   "cell_type": "code",
   "execution_count": 13,
   "id": "d7269f3c",
   "metadata": {},
   "outputs": [],
   "source": [
    "# B0 = mean_of_y - B1*mean_X1 - B2*mean_X2"
   ]
  },
  {
   "cell_type": "code",
   "execution_count": 14,
   "id": "5ac0f766",
   "metadata": {},
   "outputs": [],
   "source": [
    "# let's start with B1\n",
    "X1_biking = np.array(df['biking'])\n",
    "X2_smoking = np.array(df['smoking'])\n",
    "y_heart_disease = np.array(df['heart.disease'])"
   ]
  },
  {
   "cell_type": "code",
   "execution_count": 15,
   "id": "e403687d",
   "metadata": {},
   "outputs": [],
   "source": [
    "numerator = (sum(X2_smoking**2)*sum(X1_biking*y_heart_disease)) - (sum(X1_biking*X2_smoking)*sum(X2_smoking*y_heart_disease))\n",
    "denominator = (sum(X1_biking**2)*sum(X2_smoking**2)) - (sum(X1_biking*X2_smoking))**2 "
   ]
  },
  {
   "cell_type": "code",
   "execution_count": 16,
   "id": "ca22bc1d",
   "metadata": {},
   "outputs": [],
   "source": [
    "B1 = numerator/denominator"
   ]
  },
  {
   "cell_type": "code",
   "execution_count": 17,
   "id": "13f51816",
   "metadata": {},
   "outputs": [],
   "source": [
    "# let's find out B2\n",
    "numerator = (sum(X1_biking**2))*(sum(X2_smoking * y_heart_disease))-(sum(X1_biking*X2_smoking))*(sum(X1_biking*y_heart_disease))\n",
    "denominator = (sum(X1_biking**2))*(sum(X2_smoking**2))-(sum(X1_biking*X2_smoking))**2\n",
    "B2 = numerator/denominator"
   ]
  },
  {
   "cell_type": "code",
   "execution_count": 18,
   "id": "359e4880",
   "metadata": {},
   "outputs": [
    {
     "data": {
      "text/plain": [
       "-0.03827375916138547"
      ]
     },
     "execution_count": 18,
     "metadata": {},
     "output_type": "execute_result"
    }
   ],
   "source": [
    "B1"
   ]
  },
  {
   "cell_type": "code",
   "execution_count": 19,
   "id": "cc78c331",
   "metadata": {},
   "outputs": [
    {
     "data": {
      "text/plain": [
       "0.6230370992658973"
      ]
     },
     "execution_count": 19,
     "metadata": {},
     "output_type": "execute_result"
    }
   ],
   "source": [
    "B2"
   ]
  },
  {
   "cell_type": "code",
   "execution_count": 20,
   "id": "6a7e3b52",
   "metadata": {},
   "outputs": [],
   "source": [
    "# let's find out B0 i.e the slope\n",
    "B0 = mean_of_heart_disease - B1*mean_of_biking - B2*mean_of_smoking"
   ]
  },
  {
   "cell_type": "code",
   "execution_count": 21,
   "id": "39c7f112",
   "metadata": {},
   "outputs": [],
   "source": [
    "pred_y = B0 + B1*X1_biking + B2*X2_smoking"
   ]
  },
  {
   "cell_type": "code",
   "execution_count": 24,
   "id": "9cf1bf6c",
   "metadata": {},
   "outputs": [
    {
     "data": {
      "text/plain": [
       "array([ 7.61435513,  0.89437385, 12.88742223,  2.03566979,  9.29966463,\n",
       "       18.19766887,  5.77192288,  9.81781288,  6.95950226, 15.15766879,\n",
       "        9.01429853, 15.60074965,  7.00563558,  5.14329023,  5.33264537,\n",
       "        8.98258639, 10.1357705 ,  4.29288242,  8.37430366, 13.8666643 ,\n",
       "       10.16833609, 17.74646543, 17.84257161, 15.90056752, 11.42413549,\n",
       "       17.22759105,  2.16922961,  1.60419294,  6.61662704,  4.67832676,\n",
       "        2.78553872, 16.9740127 , 11.46082549,  9.6098033 ,  7.66812178,\n",
       "       11.72228306, 14.30069409, 16.17677351, 14.55930472,  3.18903459,\n",
       "       14.60962241,  2.19234162,  3.81763112,  3.69618927,  9.66038098,\n",
       "        9.29747749, 13.33000113,  5.98283877,  8.68595411, 12.99677746,\n",
       "        0.50404274,  8.55017966, 10.14041669, 16.46861693, 14.71042976,\n",
       "        1.62443977, 15.4977896 ,  3.68194818,  7.79180704,  5.83113704,\n",
       "        0.98945905,  5.76207781,  6.48490618,  5.02709297,  5.62611446,\n",
       "       14.1420078 , 10.02691638,  9.44940535, 11.21243604, 16.45276767,\n",
       "        5.13751118,  7.24556079, 12.92070328, 14.57539173, 16.42340575,\n",
       "       12.57828722, 16.64492994,  4.09805155,  9.91449799, 10.94201446,\n",
       "        6.10028008,  8.19350662,  8.58264281, 19.44275863, 15.25408196,\n",
       "       11.77886685, 18.89614971,  5.68009597, 10.10681161,  6.05876023,\n",
       "       18.00313159, 11.39299974,  8.53325581, 18.34103307, 15.73509488,\n",
       "       13.45264265,  9.19677248, 12.90094689, 16.21443906, 12.10799029,\n",
       "        2.53507026, 17.87408468, 10.90367038,  3.71964714, 12.36194627,\n",
       "        5.93682537,  2.32563347,  7.2481321 , 12.86734274,  0.76010119,\n",
       "       10.46977691,  9.57271685, 13.77867473,  4.59506154, 18.02183745,\n",
       "       18.79956382,  5.51316904, 14.26374444, 12.55631001,  6.84981904,\n",
       "        8.28159436, 16.97816555,  7.6393918 ,  6.34282832, 11.06363794,\n",
       "        8.67118177, 17.32569582,  3.2879964 , 18.270759  ,  7.00738128,\n",
       "        6.30417122,  5.81530218,  9.78330307, 14.97455219, 15.65711208,\n",
       "       13.50692888,  7.9687944 ,  4.97140657,  2.78136483,  3.53915096,\n",
       "       10.86718626,  7.32176425,  4.65647479, 18.08472623, 15.16378699,\n",
       "       12.74906011,  9.23913016, 14.82191435,  5.33960383,  1.37757308,\n",
       "       18.28674622, 14.12519691,  1.26799798,  8.0096979 ,  3.16291977,\n",
       "       10.10528369,  8.6946158 , 12.63805155, 15.17079295, 16.3795882 ,\n",
       "        2.41198842, 15.60642886,  7.56724124, 17.92806004,  6.35106905,\n",
       "        8.75794078,  6.52545875, 11.9837712 , 18.32375044,  2.36181464,\n",
       "        8.80338579, 17.27834346,  8.66718822, 15.56813657, 13.06958392,\n",
       "        8.62155592,  9.24375463,  4.28022746,  4.52153976,  2.65355892,\n",
       "       13.29422737,  8.6686095 ,  3.01343671,  3.91855783, 13.62368207,\n",
       "       13.10479522,  8.44018493, 10.75527556, 12.93587574,  8.55249924,\n",
       "       17.2337915 ,  7.20568807,  5.66768744,  7.72248687,  1.31283994,\n",
       "       13.44832102,  9.10984371, 13.78651824,  6.8855885 , 17.21795802,\n",
       "       14.78430048, 18.83336198, 10.79912794, 12.35910063,  5.82889532,\n",
       "        4.41900155,  3.06130794,  1.88481737, 18.41870144,  4.83652811,\n",
       "       19.05271252, 18.54287648, 13.134282  ,  5.79059301, 19.89289164,\n",
       "        7.64700303,  1.68552462,  0.44065286,  8.80744417, 17.29158795,\n",
       "        1.02818215, 19.03970678,  2.27816731, 10.5214955 , 11.44620515,\n",
       "       15.23970138,  9.09669072, 11.96142096,  5.50419564,  6.29844801,\n",
       "        2.85101809, 11.58477063,  4.82397825, 17.93017039, 11.08070803,\n",
       "        5.51130116, 11.44324137, 15.54416416, 13.93419974,  7.0018869 ,\n",
       "       14.33372476, 14.89602362, 11.3832456 ,  7.96746842,  8.02982808,\n",
       "        6.93308313, 10.23723843, 15.40419736, 15.1016465 , 12.69184227,\n",
       "        6.19172895, 12.16517672,  8.15814598, 15.90791009, 17.04169861,\n",
       "        6.22969546,  8.64047899, 11.86972902,  3.74565891, 16.92643662,\n",
       "        1.87957018,  4.96877679,  4.71766408, 18.3440888 ,  4.30154998,\n",
       "       -0.226351  ,  3.315833  , 11.76230369, 16.75097144,  9.71160687,\n",
       "        2.25215424, 11.89466047,  3.92734798, 10.60365321,  3.89906645,\n",
       "        8.87981311, 13.29707057,  9.90883512, 16.12103879, 11.70515119,\n",
       "       15.70150575, 10.12929417, 16.15732526, 19.52207435, 16.03607751,\n",
       "       15.51474863, 13.66001051, 16.31360158,  2.13917383, 17.70818327,\n",
       "        4.54670289, 17.86542786,  6.84292613, 14.53084595,  8.83994431,\n",
       "        2.36541575,  6.52511949, 11.24339555, 11.98784345, 13.82929509,\n",
       "        9.75277249, 15.20818529,  9.4863422 ,  2.18587854,  7.88490926,\n",
       "        5.63997956,  3.49448441,  7.37927002,  2.37781867,  5.17156927,\n",
       "       15.90356322,  5.50887887,  2.62410989,  1.86949473,  9.17210589,\n",
       "        8.52013577,  9.301977  , 16.56131192, 13.58743551, 10.11029017,\n",
       "       18.96845092,  9.25961373, 10.76267948, 11.13824742,  1.48252039,\n",
       "       10.98650828, 12.84488318, 18.10933564,  3.46923957, 12.76357236,\n",
       "       10.33689476, 14.57553701, 10.9185189 , 18.45099316, 16.43437671,\n",
       "       13.57146167, 11.4540401 ,  5.36240658, 11.16268227, 18.78538142,\n",
       "       11.49000126, 11.51199798, 13.11769393,  4.40452889, 18.63842758,\n",
       "        7.58941611, 16.36729872, 15.99918648,  7.67042164, 11.8138083 ,\n",
       "       17.42380259, 10.84875202, 11.40904254,  4.28261231, 11.94970723,\n",
       "        1.66450432,  5.07277655,  9.99988935,  4.34478638, 15.53111819,\n",
       "       12.83931747,  2.5003777 , 11.97297653, 12.5750339 , 13.97133834,\n",
       "       18.15124708,  4.48803372, 13.33018442,  9.52676643,  3.30423483,\n",
       "       17.62336831, 15.38923841,  9.23894321, 10.26933568,  2.12203598,\n",
       "       13.98538918, 19.07718954, 19.98696167, 16.4929105 , 10.06055403,\n",
       "       20.33599467, 14.50993272, 11.17159044,  8.93706495, 18.700125  ,\n",
       "       14.59032908, 17.76856384,  8.78728932,  4.14561611,  7.36771028,\n",
       "        9.51304102,  6.29330988, 16.121409  , 14.63767066,  3.71777784,\n",
       "        2.30480572,  3.63103473,  0.22534253, -0.15222317,  4.43299759,\n",
       "       14.89410871, 19.74255565,  3.18990736,  5.11436912, 18.35183503,\n",
       "       18.03338836, 14.09381474, 12.51931622, 11.9497226 , 12.31740391,\n",
       "        6.0231282 , 18.86140643, 19.13249897, 19.0868922 ,  8.20421487,\n",
       "       11.15319058,  1.88197344, 14.51049098, 10.6539793 , 16.86076359,\n",
       "       13.37105264, 11.0809828 , 11.34830827, 12.59471581, 10.82649789,\n",
       "       15.99909186,  8.54028796,  3.19890022,  6.49053751,  5.00666192,\n",
       "       17.96998731,  7.93117942,  7.59827037,  5.75285002,  2.3528585 ,\n",
       "        9.63537083,  8.01358517, 14.60874945,  5.73613291, 12.13935403,\n",
       "        4.95778998,  1.16519038, 11.31673218,  3.01868747, 12.49985722,\n",
       "       12.32141198, 11.67354855, 10.87638369,  6.78981116,  9.9731608 ,\n",
       "       17.00836056,  2.6860506 , 10.92209297, 13.23523429, 16.3581189 ,\n",
       "        9.44550929,  5.8545597 , 13.35155714,  1.45957562,  5.90103935,\n",
       "        7.27282791, 19.25267462,  8.97221094, -0.4221862 ,  7.66968004,\n",
       "       14.50261519, 13.18370691, 11.8455927 , 18.21443054, 13.87215365,\n",
       "        4.77778552, 17.51973753, 15.41120064,  9.25478071, 15.37696587,\n",
       "        6.09679852, 12.42259091,  2.2614241 , 19.00189093, 20.18349193,\n",
       "        3.64361491,  4.97539071,  9.21262321,  9.19641585,  1.77313793,\n",
       "        5.14784173, 13.31014386, 15.51707644,  0.74256061,  9.46866021,\n",
       "        3.81317809,  5.93646903,  5.9153393 , 17.35253683, 13.6022388 ,\n",
       "        5.68956222, 13.30612471, 15.53641208])"
      ]
     },
     "execution_count": 24,
     "metadata": {},
     "output_type": "execute_result"
    }
   ],
   "source": [
    "pred_y"
   ]
  },
  {
   "cell_type": "code",
   "execution_count": null,
   "id": "6bc9faec",
   "metadata": {},
   "outputs": [],
   "source": []
  }
 ],
 "metadata": {
  "kernelspec": {
   "display_name": "Python 3 (ipykernel)",
   "language": "python",
   "name": "python3"
  },
  "language_info": {
   "codemirror_mode": {
    "name": "ipython",
    "version": 3
   },
   "file_extension": ".py",
   "mimetype": "text/x-python",
   "name": "python",
   "nbconvert_exporter": "python",
   "pygments_lexer": "ipython3",
   "version": "3.9.7"
  }
 },
 "nbformat": 4,
 "nbformat_minor": 5
}
